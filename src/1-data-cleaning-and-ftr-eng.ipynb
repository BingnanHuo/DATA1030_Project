{
 "cells": [
  {
   "cell_type": "markdown",
   "metadata": {
    "slideshow": {
     "slide_type": "slide"
    }
   },
   "source": [
    "# Compustat World Firms Industry Classification"
   ]
  },
  {
   "cell_type": "markdown",
   "metadata": {},
   "source": [
    "# 1. Data Cleaning and Feature Engineering"
   ]
  },
  {
   "cell_type": "markdown",
   "metadata": {
    "slideshow": {
     "slide_type": "slide"
    }
   },
   "source": [
    "##  Import Libraries and Load Datasets"
   ]
  },
  {
   "cell_type": "code",
   "execution_count": 7,
   "metadata": {},
   "outputs": [],
   "source": [
    "# Data analysis\n",
    "import pandas as pd \n",
    "import numpy as np\n",
    "import matplotlib.pyplot as plt\n",
    "import seaborn as sns\n",
    "from collections import Counter\n",
    "from scipy.stats import uniform, loguniform\n",
    "from skopt.space import Real, Categorical, Integer\n",
    "import pickle\n",
    "\n",
    "\n",
    "# Preprocessing & Splitting\n",
    "from sklearn.compose import ColumnTransformer\n",
    "from sklearn.pipeline import Pipeline, make_pipeline\n",
    "from sklearn.preprocessing import OneHotEncoder, StandardScaler, MinMaxScaler\n",
    "from sklearn.impute import SimpleImputer\n",
    "from sklearn.model_selection import train_test_split, GroupShuffleSplit, StratifiedGroupKFold\n",
    "\n",
    "# Modeling\n",
    "from skopt import BayesSearchCV \n",
    "import xgboost\n",
    "from sklearn.linear_model import LogisticRegression  \n",
    "from sklearn.ensemble import RandomForestClassifier\n",
    "from sklearn.svm import SVC\n",
    "from sklearn.metrics import accuracy_score,f1_score, precision_score, recall_score, classification_report, confusion_matrix\n"
   ]
  },
  {
   "cell_type": "code",
   "execution_count": 8,
   "metadata": {},
   "outputs": [],
   "source": [
    "comp_global = pd.read_csv('../data/compustat_global.csv')\n",
    "comp_us = pd.read_csv('../data/compustat_north_america.csv')"
   ]
  },
  {
   "cell_type": "markdown",
   "metadata": {},
   "source": [
    "## Initial Data Cleaning & Combine Datasets"
   ]
  },
  {
   "cell_type": "markdown",
   "metadata": {},
   "source": [
    "### Align columns & combine datasets"
   ]
  },
  {
   "cell_type": "code",
   "execution_count": 9,
   "metadata": {},
   "outputs": [],
   "source": [
    "# Drop columns w/ no predictive power (name) and unaligned columns.\n",
    "comp_global.drop(['sic','ggroup','gind','gsubind','exchg',\n",
    "                  'conm','conml','datadate','unnpq'], \n",
    "                 axis=1, inplace=True)\n",
    "comp_us.drop(['indfmt','consol','popsrc','datafmt','tic','costat',\n",
    "              'sic','ggroup','gind','gsubind','datacqtr','exchg',\n",
    "                'conm','conml','datadate','xrdq','niq'], \n",
    "                 axis=1, inplace=True)\n",
    "\n",
    "# Fiscal Period\n",
    "comp_global['datafqtr'] = comp_global['fyearq'].astype(str)\\\n",
    "                                +'Q' + comp_global['fqtr'].astype(str)\n",
    "comp_global = comp_global.sort_values('datafqtr')\n",
    "sorted_unique_periods = sorted(comp_global['datafqtr'].unique())\n",
    "\n",
    "# Fill Comp Global Currency with USD\n",
    "comp_global['curcdq'] = None\n",
    "comp_global['curcdq'].fillna('USD', inplace=True)\n",
    "\n",
    "# Gross Profit = Sales - Cost of Goods Sold\n",
    "comp_us['gpq'] = comp_us['saleq'] - comp_us['cogsq']\n",
    "\n",
    "comp_global = comp_global[comp_us.columns]\n",
    "compustat = pd.concat([comp_global, comp_us], ignore_index=True)"
   ]
  },
  {
   "cell_type": "markdown",
   "metadata": {},
   "source": [
    "### Clean, order, filter dataset"
   ]
  },
  {
   "cell_type": "code",
   "execution_count": 10,
   "metadata": {},
   "outputs": [],
   "source": [
    "# Sector\n",
    "gic_to_sector = {\n",
    "    0: 'Energy',\n",
    "    1: 'Materials',\n",
    "    2: 'Industrials',\n",
    "    3: 'Consumer Discretionary',\n",
    "    4: 'Consumer Staples',\n",
    "    5: 'Health Care',\n",
    "    6: 'Financials',\n",
    "    7: 'Information Technology',\n",
    "    8: 'Communication Services',\n",
    "    9: 'Utilities',\n",
    "    10: 'Real Estate'\n",
    "}\n",
    "compustat['gsector_num'] = compustat['gsector']/5-2\n",
    "compustat['gsector'] = compustat['gsector_num'].map(gic_to_sector)"
   ]
  },
  {
   "cell_type": "code",
   "execution_count": 11,
   "metadata": {},
   "outputs": [],
   "source": [
    "ordered_cols = ['gsector_num','gsector', # RESPONSE: industry sector\n",
    "                'gvkey', # company ID\n",
    "                'datafqtr','fyearq','fqtr', # response var and time\n",
    "                'loc','curcdq', # categorical variables\n",
    "                'saleq','gpq','oiadpq','oibdpq', # revenue / profit related variables\n",
    "                'cogsq','xoprq', # cost related variables\n",
    "                'atq','seqq','dlcq','dlttq','capxy','oancfy' # asset, debts, cashflow etc.\n",
    "                ]\n",
    "compustat = compustat[ordered_cols]\n",
    "compustat = compustat.sort_values(['gvkey','datafqtr'])\n",
    "compustat = compustat.reset_index(drop=True)"
   ]
  },
  {
   "cell_type": "code",
   "execution_count": 12,
   "metadata": {},
   "outputs": [],
   "source": [
    "# Filter years >= 2000\n",
    "compustat = compustat[(compustat[\"fyearq\"]>=2000)]\n",
    "\n",
    "# Remove companies where sector (y) is missing\n",
    "mask = compustat.groupby('gvkey')['gsector'].transform(lambda x: x.isna().any())\n",
    "compustat = compustat[~mask]\n",
    "\n",
    "# Remove companies with no sales data\n",
    "mask = compustat.groupby('gvkey')['saleq'].transform(lambda x: x.notna().any()) # remove if no sales data present\n",
    "compustat = compustat[mask]\n",
    "# Remove if any sales data is missing\n",
    "#mask = compustat.groupby('gvkey')['saleq'].transform(lambda x: x.isna().any())\n",
    "#compustat = compustat[~mask]\n",
    "\n",
    "# Remove if any date information is missing\n",
    "mask = compustat.groupby('gvkey')['datafqtr'].transform(lambda x: x.isna().any())\n",
    "compustat = compustat[~mask]"
   ]
  },
  {
   "cell_type": "code",
   "execution_count": 13,
   "metadata": {},
   "outputs": [
    {
     "data": {
      "text/plain": [
       "(2748178, 20)"
      ]
     },
     "execution_count": 13,
     "metadata": {},
     "output_type": "execute_result"
    }
   ],
   "source": [
    "compustat.shape"
   ]
  },
  {
   "cell_type": "code",
   "execution_count": 14,
   "metadata": {},
   "outputs": [
    {
     "data": {
      "text/plain": [
       "gsector\n",
       "Industrials               508016\n",
       "Consumer Discretionary    421159\n",
       "Materials                 389118\n",
       "Information Technology    385799\n",
       "Health Care               262493\n",
       "Consumer Staples          202318\n",
       "Financials                167707\n",
       "Energy                    147524\n",
       "Communication Services    128289\n",
       "Utilities                  87376\n",
       "Real Estate                48379\n",
       "Name: count, dtype: int64"
      ]
     },
     "execution_count": 14,
     "metadata": {},
     "output_type": "execute_result"
    }
   ],
   "source": [
    "compustat['gsector'].value_counts()"
   ]
  },
  {
   "cell_type": "code",
   "execution_count": 15,
   "metadata": {},
   "outputs": [
    {
     "data": {
      "text/plain": [
       "58930"
      ]
     },
     "execution_count": 15,
     "metadata": {},
     "output_type": "execute_result"
    }
   ],
   "source": [
    "compustat['gvkey'].nunique()"
   ]
  },
  {
   "cell_type": "code",
   "execution_count": 7,
   "metadata": {},
   "outputs": [],
   "source": [
    "#compustat.isna().mean().round(3) * 100"
   ]
  },
  {
   "cell_type": "markdown",
   "metadata": {},
   "source": [
    "### Preliminary feature engineering (from domain knowledge)"
   ]
  },
  {
   "cell_type": "code",
   "execution_count": 8,
   "metadata": {},
   "outputs": [],
   "source": [
    "# Gross Profit Margin = (Revenue - Cost_of_Goods_Sold) / Revenue\n",
    "compustat['gpm'] = (compustat['saleq']-compustat['cogsq'])/compustat['saleq']\n",
    "\n",
    "# Operating Profit Margin = Operating_Income (before depreciation) / Revenue\n",
    "compustat['opm'] = (compustat['oibdpq'])/compustat['saleq']\n",
    "\n",
    "# Operating Cash Flow Margin = Operating_Cash_Flow / Revenue\n",
    "compustat['ocfm'] = (compustat['oancfy'])/compustat['saleq']\n",
    "\n",
    "# Return on [Assets/Equity] = Operating_Income / Total_[Assets/Equity]\n",
    "compustat['roa'] = (compustat['oiadpq'])/compustat['atq']\n",
    "compustat['roe'] = (compustat['oiadpq'])/compustat['seqq']\n",
    "\n",
    "# Cashflow to [Debt/Assets] Ratio = Operating_Cash_Flow / Total_[Debt/Assets]\n",
    "compustat['cd_ratio'] = (compustat['oancfy'])/(compustat['dlcq']+compustat['dlttq'])\n",
    "compustat['ca_ratio'] = (compustat['oancfy'])/compustat['atq']\n",
    "\n",
    "# Free Cashflow to [Assets/Equity/Debt/Sales] Ratio = \n",
    "# (Operating_Cash_Flow - Capital_Expenditure) / Total_Assets\n",
    "compustat['fca_ratio'] = (compustat['oancfy']-compustat['capxy'])/compustat['atq']\n",
    "compustat['fce_ratio'] = (compustat['oancfy']-compustat['capxy'])/compustat['seqq']\n",
    "compustat['fcd_ratio'] = (compustat['oancfy']-compustat['capxy'])/(compustat['dlcq']+compustat['dlttq'])\n",
    "compustat['fcs_ratio'] = (compustat['oancfy']-compustat['capxy'])/compustat['saleq']\n",
    "\n",
    "# Total Asset Turnover = Revenue / Total_Assets\n",
    "compustat['tat'] = (compustat['saleq'])/compustat['atq']\n",
    "\n",
    "# Current Ratio = Current_Assets / Current_Liabilities\n",
    "compustat['cr'] = (compustat['atq']-compustat['dlcq']-compustat['dlttq'])/compustat['dlcq']\n",
    "\n",
    "# Total Debt Ratio = Total_Debt / Total_Assets\n",
    "compustat['tdr'] = (compustat['dlcq']+compustat['dlttq'])/compustat['atq']\n",
    "\n",
    "# Debt to Equity Ratio = Total_Debt / Total_Equity\n",
    "compustat['der'] = (compustat['dlcq']+compustat['dlttq'])/compustat['seqq']\n",
    "\n",
    "ratios_to_cap = ['gpm','opm','ocfm','roa','roe','cd_ratio','ca_ratio',\n",
    "                 'fca_ratio','fce_ratio','fcd_ratio','fcs_ratio','tat',\n",
    "                 'cr','tdr','der']\n",
    "for ratio in ratios_to_cap:\n",
    "    compustat[ratio] = np.where(compustat[ratio].abs() > 2, \n",
    "                                np.sign(compustat[ratio]) * 2, compustat[ratio])"
   ]
  },
  {
   "cell_type": "code",
   "execution_count": null,
   "metadata": {},
   "outputs": [],
   "source": []
  },
  {
   "cell_type": "code",
   "execution_count": 9,
   "metadata": {},
   "outputs": [],
   "source": [
    "def create_lagged_features(df, columns, n_lags):\n",
    "  lagged_features = []\n",
    "  for col in columns:\n",
    "    for lag in range(1, n_lags + 1):\n",
    "      lagged_features.append(df.groupby('gvkey')[col].shift(lag).rename(f\"{col}_lag{lag}\"))\n",
    "  return pd.concat(lagged_features, axis=1)\n",
    "\n",
    "def create_sliding_window_features(df, columns, window_sizes):\n",
    "  rolling_features = []\n",
    "  for col in columns:\n",
    "    for window_size in window_sizes:\n",
    "      rolling_means = df.groupby('gvkey')[col].rolling(window=window_size).mean().reset_index(level=0, drop=True).rename(f\"{col}_mean_{window_size}Q\")\n",
    "      rolling_stds = df.groupby('gvkey')[col].rolling(window=window_size).std().reset_index(level=0, drop=True).rename(f\"{col}_std_{window_size}Q\")\n",
    "      rolling_features.append(pd.concat([rolling_means, rolling_stds], axis=1))\n",
    "  return pd.concat(rolling_features, axis=1)\n"
   ]
  },
  {
   "cell_type": "code",
   "execution_count": 10,
   "metadata": {},
   "outputs": [],
   "source": [
    "lag_slide_columns = ['gpm','opm','ocfm','roa','roe',\n",
    "                     'fca_ratio','fce_ratio','fcd_ratio','fcs_ratio',\n",
    "                     'tat','cr','tdr','der']\n",
    "n_lags = 4\n",
    "window_size1 = 4\n",
    "window_size2 = 8\n",
    "\n",
    "lagged_df = create_lagged_features(compustat, lag_slide_columns, n_lags)\n",
    "rolling_df = create_sliding_window_features(compustat, lag_slide_columns, [window_size1, window_size2])\n",
    "\n",
    "compustat = pd.concat([compustat, lagged_df, rolling_df], axis=1)"
   ]
  },
  {
   "cell_type": "code",
   "execution_count": 11,
   "metadata": {},
   "outputs": [
    {
     "data": {
      "text/plain": [
       "(2748178, 139)"
      ]
     },
     "execution_count": 11,
     "metadata": {},
     "output_type": "execute_result"
    }
   ],
   "source": [
    "compustat.shape"
   ]
  },
  {
   "cell_type": "code",
   "execution_count": 12,
   "metadata": {},
   "outputs": [
    {
     "data": {
      "text/html": [
       "<div>\n",
       "<style scoped>\n",
       "    .dataframe tbody tr th:only-of-type {\n",
       "        vertical-align: middle;\n",
       "    }\n",
       "\n",
       "    .dataframe tbody tr th {\n",
       "        vertical-align: top;\n",
       "    }\n",
       "\n",
       "    .dataframe thead th {\n",
       "        text-align: right;\n",
       "    }\n",
       "</style>\n",
       "<table border=\"1\" class=\"dataframe\">\n",
       "  <thead>\n",
       "    <tr style=\"text-align: right;\">\n",
       "      <th></th>\n",
       "      <th>gsector_num</th>\n",
       "      <th>gsector</th>\n",
       "      <th>gvkey</th>\n",
       "      <th>datafqtr</th>\n",
       "      <th>fyearq</th>\n",
       "      <th>fqtr</th>\n",
       "      <th>loc</th>\n",
       "      <th>curcdq</th>\n",
       "      <th>saleq</th>\n",
       "      <th>gpq</th>\n",
       "      <th>...</th>\n",
       "      <th>cr_mean_8Q</th>\n",
       "      <th>cr_std_8Q</th>\n",
       "      <th>tdr_mean_4Q</th>\n",
       "      <th>tdr_std_4Q</th>\n",
       "      <th>tdr_mean_8Q</th>\n",
       "      <th>tdr_std_8Q</th>\n",
       "      <th>der_mean_4Q</th>\n",
       "      <th>der_std_4Q</th>\n",
       "      <th>der_mean_8Q</th>\n",
       "      <th>der_std_8Q</th>\n",
       "    </tr>\n",
       "  </thead>\n",
       "  <tbody>\n",
       "    <tr>\n",
       "      <th>66</th>\n",
       "      <td>2.0</td>\n",
       "      <td>Industrials</td>\n",
       "      <td>1004</td>\n",
       "      <td>2000Q1</td>\n",
       "      <td>2000</td>\n",
       "      <td>1.0</td>\n",
       "      <td>USA</td>\n",
       "      <td>USD</td>\n",
       "      <td>241.770</td>\n",
       "      <td>39.109</td>\n",
       "      <td>...</td>\n",
       "      <td>NaN</td>\n",
       "      <td>NaN</td>\n",
       "      <td>NaN</td>\n",
       "      <td>NaN</td>\n",
       "      <td>NaN</td>\n",
       "      <td>NaN</td>\n",
       "      <td>NaN</td>\n",
       "      <td>NaN</td>\n",
       "      <td>NaN</td>\n",
       "      <td>NaN</td>\n",
       "    </tr>\n",
       "    <tr>\n",
       "      <th>67</th>\n",
       "      <td>2.0</td>\n",
       "      <td>Industrials</td>\n",
       "      <td>1004</td>\n",
       "      <td>2000Q2</td>\n",
       "      <td>2000</td>\n",
       "      <td>2.0</td>\n",
       "      <td>USA</td>\n",
       "      <td>USD</td>\n",
       "      <td>211.335</td>\n",
       "      <td>39.853</td>\n",
       "      <td>...</td>\n",
       "      <td>NaN</td>\n",
       "      <td>NaN</td>\n",
       "      <td>NaN</td>\n",
       "      <td>NaN</td>\n",
       "      <td>NaN</td>\n",
       "      <td>NaN</td>\n",
       "      <td>NaN</td>\n",
       "      <td>NaN</td>\n",
       "      <td>NaN</td>\n",
       "      <td>NaN</td>\n",
       "    </tr>\n",
       "    <tr>\n",
       "      <th>68</th>\n",
       "      <td>2.0</td>\n",
       "      <td>Industrials</td>\n",
       "      <td>1004</td>\n",
       "      <td>2000Q3</td>\n",
       "      <td>2000</td>\n",
       "      <td>3.0</td>\n",
       "      <td>USA</td>\n",
       "      <td>USD</td>\n",
       "      <td>200.071</td>\n",
       "      <td>40.534</td>\n",
       "      <td>...</td>\n",
       "      <td>NaN</td>\n",
       "      <td>NaN</td>\n",
       "      <td>NaN</td>\n",
       "      <td>NaN</td>\n",
       "      <td>NaN</td>\n",
       "      <td>NaN</td>\n",
       "      <td>NaN</td>\n",
       "      <td>NaN</td>\n",
       "      <td>NaN</td>\n",
       "      <td>NaN</td>\n",
       "    </tr>\n",
       "    <tr>\n",
       "      <th>69</th>\n",
       "      <td>2.0</td>\n",
       "      <td>Industrials</td>\n",
       "      <td>1004</td>\n",
       "      <td>2000Q4</td>\n",
       "      <td>2000</td>\n",
       "      <td>4.0</td>\n",
       "      <td>USA</td>\n",
       "      <td>USD</td>\n",
       "      <td>221.079</td>\n",
       "      <td>40.948</td>\n",
       "      <td>...</td>\n",
       "      <td>NaN</td>\n",
       "      <td>NaN</td>\n",
       "      <td>0.296097</td>\n",
       "      <td>0.013844</td>\n",
       "      <td>NaN</td>\n",
       "      <td>NaN</td>\n",
       "      <td>0.646195</td>\n",
       "      <td>0.051509</td>\n",
       "      <td>NaN</td>\n",
       "      <td>NaN</td>\n",
       "    </tr>\n",
       "    <tr>\n",
       "      <th>70</th>\n",
       "      <td>2.0</td>\n",
       "      <td>Industrials</td>\n",
       "      <td>1004</td>\n",
       "      <td>2001Q1</td>\n",
       "      <td>2001</td>\n",
       "      <td>1.0</td>\n",
       "      <td>USA</td>\n",
       "      <td>USD</td>\n",
       "      <td>202.993</td>\n",
       "      <td>34.164</td>\n",
       "      <td>...</td>\n",
       "      <td>NaN</td>\n",
       "      <td>NaN</td>\n",
       "      <td>0.303825</td>\n",
       "      <td>0.025066</td>\n",
       "      <td>NaN</td>\n",
       "      <td>NaN</td>\n",
       "      <td>0.665448</td>\n",
       "      <td>0.074448</td>\n",
       "      <td>NaN</td>\n",
       "      <td>NaN</td>\n",
       "    </tr>\n",
       "  </tbody>\n",
       "</table>\n",
       "<p>5 rows × 139 columns</p>\n",
       "</div>"
      ],
      "text/plain": [
       "    gsector_num      gsector  gvkey datafqtr  fyearq  fqtr  loc curcdq  \\\n",
       "66          2.0  Industrials   1004   2000Q1    2000   1.0  USA    USD   \n",
       "67          2.0  Industrials   1004   2000Q2    2000   2.0  USA    USD   \n",
       "68          2.0  Industrials   1004   2000Q3    2000   3.0  USA    USD   \n",
       "69          2.0  Industrials   1004   2000Q4    2000   4.0  USA    USD   \n",
       "70          2.0  Industrials   1004   2001Q1    2001   1.0  USA    USD   \n",
       "\n",
       "      saleq     gpq  ...  cr_mean_8Q  cr_std_8Q  tdr_mean_4Q  tdr_std_4Q  \\\n",
       "66  241.770  39.109  ...         NaN        NaN          NaN         NaN   \n",
       "67  211.335  39.853  ...         NaN        NaN          NaN         NaN   \n",
       "68  200.071  40.534  ...         NaN        NaN          NaN         NaN   \n",
       "69  221.079  40.948  ...         NaN        NaN     0.296097    0.013844   \n",
       "70  202.993  34.164  ...         NaN        NaN     0.303825    0.025066   \n",
       "\n",
       "    tdr_mean_8Q  tdr_std_8Q  der_mean_4Q  der_std_4Q  der_mean_8Q  der_std_8Q  \n",
       "66          NaN         NaN          NaN         NaN          NaN         NaN  \n",
       "67          NaN         NaN          NaN         NaN          NaN         NaN  \n",
       "68          NaN         NaN          NaN         NaN          NaN         NaN  \n",
       "69          NaN         NaN     0.646195    0.051509          NaN         NaN  \n",
       "70          NaN         NaN     0.665448    0.074448          NaN         NaN  \n",
       "\n",
       "[5 rows x 139 columns]"
      ]
     },
     "execution_count": 12,
     "metadata": {},
     "output_type": "execute_result"
    }
   ],
   "source": [
    "compustat.head()"
   ]
  },
  {
   "cell_type": "code",
   "execution_count": 13,
   "metadata": {},
   "outputs": [
    {
     "data": {
      "text/plain": [
       "saleq           9.8\n",
       "gpq             8.7\n",
       "oiadpq         18.1\n",
       "oibdpq         11.6\n",
       "cogsq          11.5\n",
       "               ... \n",
       "tdr_std_8Q     53.6\n",
       "der_mean_4Q    44.3\n",
       "der_std_4Q     44.3\n",
       "der_mean_8Q    53.6\n",
       "der_std_8Q     53.6\n",
       "Length: 131, dtype: float64"
      ]
     },
     "execution_count": 13,
     "metadata": {},
     "output_type": "execute_result"
    }
   ],
   "source": [
    "a=compustat.isna().mean().round(3) * 100\n",
    "a[a>0]"
   ]
  },
  {
   "cell_type": "code",
   "execution_count": 14,
   "metadata": {},
   "outputs": [],
   "source": [
    "#compustat.hist(figsize=(30,30))"
   ]
  },
  {
   "cell_type": "code",
   "execution_count": 15,
   "metadata": {},
   "outputs": [
    {
     "data": {
      "text/plain": [
       "(2748178, 139)"
      ]
     },
     "execution_count": 15,
     "metadata": {},
     "output_type": "execute_result"
    }
   ],
   "source": [
    "compustat.shape"
   ]
  },
  {
   "cell_type": "code",
   "execution_count": 16,
   "metadata": {},
   "outputs": [],
   "source": [
    "#np.array(list(compustat.columns))"
   ]
  },
  {
   "cell_type": "code",
   "execution_count": 17,
   "metadata": {},
   "outputs": [],
   "source": [
    "compustat.to_pickle('../data/compustat_ftreng.pkl')"
   ]
  },
  {
   "cell_type": "code",
   "execution_count": 18,
   "metadata": {},
   "outputs": [],
   "source": [
    "#compustat = pd.read_pickle('../data/compustat_ftreng.pkl')"
   ]
  },
  {
   "cell_type": "code",
   "execution_count": null,
   "metadata": {},
   "outputs": [],
   "source": []
  }
 ],
 "metadata": {
  "celltoolbar": "Slideshow",
  "kernelspec": {
   "display_name": "Python 3 (ipykernel)",
   "language": "python",
   "name": "python3"
  },
  "language_info": {
   "codemirror_mode": {
    "name": "ipython",
    "version": 3
   },
   "file_extension": ".py",
   "mimetype": "text/x-python",
   "name": "python",
   "nbconvert_exporter": "python",
   "pygments_lexer": "ipython3",
   "version": "3.9.18"
  }
 },
 "nbformat": 4,
 "nbformat_minor": 4
}
